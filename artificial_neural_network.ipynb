{
  "nbformat": 4,
  "nbformat_minor": 0,
  "metadata": {
    "colab": {
      "provenance": [],
      "include_colab_link": true
    },
    "kernelspec": {
      "name": "python3",
      "display_name": "Python 3"
    }
  },
  "cells": [
    {
      "cell_type": "markdown",
      "metadata": {
        "id": "view-in-github",
        "colab_type": "text"
      },
      "source": [
        "<a href=\"https://colab.research.google.com/github/codeantik/ANN-Electrical-Energy-Output-Prediction/blob/main/artificial_neural_network.ipynb\" target=\"_parent\"><img src=\"https://colab.research.google.com/assets/colab-badge.svg\" alt=\"Open In Colab\"/></a>"
      ]
    },
    {
      "cell_type": "markdown",
      "metadata": {
        "id": "3cbb7fRy-eyr"
      },
      "source": [
        "# Artificial Neural Network"
      ]
    },
    {
      "cell_type": "markdown",
      "metadata": {
        "id": "8sNDnxE2-pwE"
      },
      "source": [
        "### Importing the libraries"
      ]
    },
    {
      "cell_type": "code",
      "source": [
        "import numpy as np\n",
        "import tensorflow as tf\n",
        "import pandas as pd"
      ],
      "metadata": {
        "id": "JZXFjbAJiNo7"
      },
      "execution_count": 1,
      "outputs": []
    },
    {
      "cell_type": "code",
      "source": [
        "tf.__version__"
      ],
      "metadata": {
        "colab": {
          "base_uri": "https://localhost:8080/",
          "height": 35
        },
        "id": "LM3Qd0uli_7m",
        "outputId": "3a093a1e-0986-4755-b72c-b0af34ab39e3"
      },
      "execution_count": 2,
      "outputs": [
        {
          "output_type": "execute_result",
          "data": {
            "text/plain": [
              "'2.12.0'"
            ],
            "application/vnd.google.colaboratory.intrinsic+json": {
              "type": "string"
            }
          },
          "metadata": {},
          "execution_count": 2
        }
      ]
    },
    {
      "cell_type": "markdown",
      "metadata": {
        "id": "AG3FQEch-yuA"
      },
      "source": [
        "## Part 1 - Data Preprocessing"
      ]
    },
    {
      "cell_type": "markdown",
      "metadata": {
        "id": "-4zq8Mza_D9O"
      },
      "source": [
        "### Importing the dataset"
      ]
    },
    {
      "cell_type": "code",
      "source": [
        "dataset = pd.read_excel('Data.xlsx')\n",
        "X = dataset.iloc[:, :-1].values\n",
        "y = dataset.iloc[:, -1].values"
      ],
      "metadata": {
        "id": "CARGLV3bi5bA"
      },
      "execution_count": 3,
      "outputs": []
    },
    {
      "cell_type": "code",
      "source": [
        "print(X)"
      ],
      "metadata": {
        "colab": {
          "base_uri": "https://localhost:8080/"
        },
        "id": "HlCB56R9kJaO",
        "outputId": "72da260e-da43-495e-8a70-8d5d4ee44411"
      },
      "execution_count": 4,
      "outputs": [
        {
          "output_type": "stream",
          "name": "stdout",
          "text": [
            "[[  14.96   41.76 1024.07   73.17]\n",
            " [  25.18   62.96 1020.04   59.08]\n",
            " [   5.11   39.4  1012.16   92.14]\n",
            " ...\n",
            " [  31.32   74.33 1012.92   36.48]\n",
            " [  24.48   69.45 1013.86   62.39]\n",
            " [  21.6    62.52 1017.23   67.87]]\n"
          ]
        }
      ]
    },
    {
      "cell_type": "code",
      "source": [
        "print(y)"
      ],
      "metadata": {
        "colab": {
          "base_uri": "https://localhost:8080/"
        },
        "id": "0dC1hY11kLjW",
        "outputId": "84ce52d7-ac05-4321-f25a-2078d92d90f1"
      },
      "execution_count": 5,
      "outputs": [
        {
          "output_type": "stream",
          "name": "stdout",
          "text": [
            "[463.26 444.37 488.56 ... 429.57 435.74 453.28]\n"
          ]
        }
      ]
    },
    {
      "cell_type": "markdown",
      "metadata": {
        "id": "VC6omXel_Up0"
      },
      "source": [
        "### Splitting the dataset into the Training set and Test set"
      ]
    },
    {
      "cell_type": "code",
      "source": [
        "from sklearn.model_selection import train_test_split\n",
        "X_train, X_test, y_train, y_test = train_test_split(X, y, test_size = 0.2, random_state = 0)"
      ],
      "metadata": {
        "id": "RiNhbIpkkhvd"
      },
      "execution_count": 6,
      "outputs": []
    },
    {
      "cell_type": "markdown",
      "metadata": {
        "id": "_mSLlAT9_eyI"
      },
      "source": [
        "## Part 2 - Building the ANN"
      ]
    },
    {
      "cell_type": "markdown",
      "metadata": {
        "id": "CsBULd_f_wLY"
      },
      "source": [
        "### Initializing the ANN"
      ]
    },
    {
      "cell_type": "code",
      "source": [
        "ann = tf.keras.models.Sequential()"
      ],
      "metadata": {
        "id": "uW1g5kcbkZWz"
      },
      "execution_count": 7,
      "outputs": []
    },
    {
      "cell_type": "markdown",
      "metadata": {
        "id": "iitAFJS_ABUn"
      },
      "source": [
        "### Adding the input layer and the first hidden layer"
      ]
    },
    {
      "cell_type": "code",
      "source": [
        "ann.add(tf.keras.layers.Dense(units = 6, activation='relu'))"
      ],
      "metadata": {
        "id": "a6lXI4-SkwKa"
      },
      "execution_count": 8,
      "outputs": []
    },
    {
      "cell_type": "markdown",
      "metadata": {
        "id": "-lb4kK_wAKbs"
      },
      "source": [
        "### Adding the second hidden layer"
      ]
    },
    {
      "cell_type": "code",
      "source": [
        "ann.add(tf.keras.layers.Dense(units = 6, activation='relu'))"
      ],
      "metadata": {
        "id": "N0AN1DI9lrnp"
      },
      "execution_count": 9,
      "outputs": []
    },
    {
      "cell_type": "markdown",
      "metadata": {
        "id": "jwMOmKb3AdBY"
      },
      "source": [
        "### Adding the output layer"
      ]
    },
    {
      "cell_type": "code",
      "source": [
        "ann.add(tf.keras.layers.Dense(units = 1))"
      ],
      "metadata": {
        "id": "84q5TUsnnYVc"
      },
      "execution_count": 10,
      "outputs": []
    },
    {
      "cell_type": "markdown",
      "metadata": {
        "id": "fq7e4fF6A1yy"
      },
      "source": [
        "## Part 3 - Training the ANN"
      ]
    },
    {
      "cell_type": "markdown",
      "metadata": {
        "id": "qDeylAs2An25"
      },
      "source": [
        "### Compiling the ANN"
      ]
    },
    {
      "cell_type": "code",
      "source": [
        "ann.compile(optimizer = 'adam', loss = 'mean_squared_error')"
      ],
      "metadata": {
        "id": "uVri-4aGnmzT"
      },
      "execution_count": 11,
      "outputs": []
    },
    {
      "cell_type": "markdown",
      "metadata": {
        "id": "YjVuiybYOo7r"
      },
      "source": [
        "### Training the ANN model on the Training set"
      ]
    },
    {
      "cell_type": "code",
      "source": [
        "ann.fit(X_train, y_train, batch_size = 32, epochs = 100)"
      ],
      "metadata": {
        "colab": {
          "base_uri": "https://localhost:8080/"
        },
        "id": "MCnCWzHEn_vH",
        "outputId": "de6030a0-cc88-4aff-9298-a6e58d7f602f"
      },
      "execution_count": 12,
      "outputs": [
        {
          "output_type": "stream",
          "name": "stdout",
          "text": [
            "Epoch 1/100\n",
            "240/240 [==============================] - 1s 2ms/step - loss: 206765.9219\n",
            "Epoch 2/100\n",
            "240/240 [==============================] - 0s 2ms/step - loss: 206260.0469\n",
            "Epoch 3/100\n",
            "240/240 [==============================] - 0s 2ms/step - loss: 205814.8594\n",
            "Epoch 4/100\n",
            "240/240 [==============================] - 0s 2ms/step - loss: 81484.4609\n",
            "Epoch 5/100\n",
            "240/240 [==============================] - 0s 1ms/step - loss: 112.1582\n",
            "Epoch 6/100\n",
            "240/240 [==============================] - 0s 1ms/step - loss: 103.9925\n",
            "Epoch 7/100\n",
            "240/240 [==============================] - 1s 2ms/step - loss: 95.5711\n",
            "Epoch 8/100\n",
            "240/240 [==============================] - 1s 3ms/step - loss: 87.1269\n",
            "Epoch 9/100\n",
            "240/240 [==============================] - 1s 3ms/step - loss: 78.6096\n",
            "Epoch 10/100\n",
            "240/240 [==============================] - 1s 3ms/step - loss: 70.8710\n",
            "Epoch 11/100\n",
            "240/240 [==============================] - 1s 2ms/step - loss: 63.6154\n",
            "Epoch 12/100\n",
            "240/240 [==============================] - 1s 2ms/step - loss: 56.8556\n",
            "Epoch 13/100\n",
            "240/240 [==============================] - 1s 4ms/step - loss: 51.2821\n",
            "Epoch 14/100\n",
            "240/240 [==============================] - 1s 4ms/step - loss: 46.2611\n",
            "Epoch 15/100\n",
            "240/240 [==============================] - 1s 3ms/step - loss: 42.4458\n",
            "Epoch 16/100\n",
            "240/240 [==============================] - 1s 4ms/step - loss: 39.2204\n",
            "Epoch 17/100\n",
            "240/240 [==============================] - 1s 4ms/step - loss: 37.0664\n",
            "Epoch 18/100\n",
            "240/240 [==============================] - 1s 3ms/step - loss: 35.0645\n",
            "Epoch 19/100\n",
            "240/240 [==============================] - 1s 3ms/step - loss: 33.5423\n",
            "Epoch 20/100\n",
            "240/240 [==============================] - 1s 3ms/step - loss: 32.3149\n",
            "Epoch 21/100\n",
            "240/240 [==============================] - 1s 2ms/step - loss: 31.4757\n",
            "Epoch 22/100\n",
            "240/240 [==============================] - 1s 3ms/step - loss: 30.9026\n",
            "Epoch 23/100\n",
            "240/240 [==============================] - 1s 3ms/step - loss: 30.1607\n",
            "Epoch 24/100\n",
            "240/240 [==============================] - 1s 3ms/step - loss: 29.6768\n",
            "Epoch 25/100\n",
            "240/240 [==============================] - 1s 2ms/step - loss: 29.3577\n",
            "Epoch 26/100\n",
            "240/240 [==============================] - 1s 3ms/step - loss: 29.0485\n",
            "Epoch 27/100\n",
            "240/240 [==============================] - 1s 3ms/step - loss: 28.7805\n",
            "Epoch 28/100\n",
            "240/240 [==============================] - 1s 2ms/step - loss: 28.7013\n",
            "Epoch 29/100\n",
            "240/240 [==============================] - 1s 3ms/step - loss: 28.3049\n",
            "Epoch 30/100\n",
            "240/240 [==============================] - 1s 2ms/step - loss: 27.9332\n",
            "Epoch 31/100\n",
            "240/240 [==============================] - 1s 4ms/step - loss: 27.9029\n",
            "Epoch 32/100\n",
            "240/240 [==============================] - 1s 6ms/step - loss: 28.0581\n",
            "Epoch 33/100\n",
            "240/240 [==============================] - 1s 2ms/step - loss: 27.5538\n",
            "Epoch 34/100\n",
            "240/240 [==============================] - 1s 2ms/step - loss: 27.7806\n",
            "Epoch 35/100\n",
            "240/240 [==============================] - 1s 2ms/step - loss: 27.4997\n",
            "Epoch 36/100\n",
            "240/240 [==============================] - 0s 2ms/step - loss: 27.1071\n",
            "Epoch 37/100\n",
            "240/240 [==============================] - 0s 1ms/step - loss: 27.1698\n",
            "Epoch 38/100\n",
            "240/240 [==============================] - 0s 1ms/step - loss: 27.1408\n",
            "Epoch 39/100\n",
            "240/240 [==============================] - 0s 2ms/step - loss: 27.4327\n",
            "Epoch 40/100\n",
            "240/240 [==============================] - 0s 2ms/step - loss: 27.0647\n",
            "Epoch 41/100\n",
            "240/240 [==============================] - 0s 2ms/step - loss: 26.8954\n",
            "Epoch 42/100\n",
            "240/240 [==============================] - 0s 2ms/step - loss: 26.7995\n",
            "Epoch 43/100\n",
            "240/240 [==============================] - 0s 2ms/step - loss: 26.7697\n",
            "Epoch 44/100\n",
            "240/240 [==============================] - 0s 2ms/step - loss: 26.4055\n",
            "Epoch 45/100\n",
            "240/240 [==============================] - 0s 2ms/step - loss: 27.4368\n",
            "Epoch 46/100\n",
            "240/240 [==============================] - 0s 2ms/step - loss: 26.6780\n",
            "Epoch 47/100\n",
            "240/240 [==============================] - 0s 1ms/step - loss: 26.6880\n",
            "Epoch 48/100\n",
            "240/240 [==============================] - 0s 1ms/step - loss: 26.5226\n",
            "Epoch 49/100\n",
            "240/240 [==============================] - 0s 1ms/step - loss: 26.7067\n",
            "Epoch 50/100\n",
            "240/240 [==============================] - 0s 2ms/step - loss: 27.0129\n",
            "Epoch 51/100\n",
            "240/240 [==============================] - 0s 1ms/step - loss: 26.6635\n",
            "Epoch 52/100\n",
            "240/240 [==============================] - 0s 1ms/step - loss: 26.5295\n",
            "Epoch 53/100\n",
            "240/240 [==============================] - 0s 2ms/step - loss: 26.6804\n",
            "Epoch 54/100\n",
            "240/240 [==============================] - 0s 2ms/step - loss: 26.4304\n",
            "Epoch 55/100\n",
            "240/240 [==============================] - 0s 1ms/step - loss: 26.4811\n",
            "Epoch 56/100\n",
            "240/240 [==============================] - 0s 2ms/step - loss: 26.7536\n",
            "Epoch 57/100\n",
            "240/240 [==============================] - 0s 1ms/step - loss: 26.9945\n",
            "Epoch 58/100\n",
            "240/240 [==============================] - 0s 2ms/step - loss: 26.5702\n",
            "Epoch 59/100\n",
            "240/240 [==============================] - 0s 1ms/step - loss: 26.7389\n",
            "Epoch 60/100\n",
            "240/240 [==============================] - 0s 1ms/step - loss: 26.1833\n",
            "Epoch 61/100\n",
            "240/240 [==============================] - 0s 1ms/step - loss: 26.3699\n",
            "Epoch 62/100\n",
            "240/240 [==============================] - 0s 1ms/step - loss: 26.5084\n",
            "Epoch 63/100\n",
            "240/240 [==============================] - 0s 2ms/step - loss: 26.3326\n",
            "Epoch 64/100\n",
            "240/240 [==============================] - 1s 2ms/step - loss: 26.5574\n",
            "Epoch 65/100\n",
            "240/240 [==============================] - 1s 2ms/step - loss: 26.4830\n",
            "Epoch 66/100\n",
            "240/240 [==============================] - 1s 2ms/step - loss: 26.1917\n",
            "Epoch 67/100\n",
            "240/240 [==============================] - 1s 2ms/step - loss: 27.2475\n",
            "Epoch 68/100\n",
            "240/240 [==============================] - 1s 2ms/step - loss: 26.6764\n",
            "Epoch 69/100\n",
            "240/240 [==============================] - 0s 2ms/step - loss: 26.3881\n",
            "Epoch 70/100\n",
            "240/240 [==============================] - 0s 1ms/step - loss: 27.0466\n",
            "Epoch 71/100\n",
            "240/240 [==============================] - 0s 2ms/step - loss: 26.4931\n",
            "Epoch 72/100\n",
            "240/240 [==============================] - 0s 1ms/step - loss: 26.2287\n",
            "Epoch 73/100\n",
            "240/240 [==============================] - 0s 2ms/step - loss: 26.6062\n",
            "Epoch 74/100\n",
            "240/240 [==============================] - 0s 2ms/step - loss: 26.7853\n",
            "Epoch 75/100\n",
            "240/240 [==============================] - 0s 2ms/step - loss: 26.4111\n",
            "Epoch 76/100\n",
            "240/240 [==============================] - 0s 2ms/step - loss: 26.8767\n",
            "Epoch 77/100\n",
            "240/240 [==============================] - 0s 2ms/step - loss: 26.6127\n",
            "Epoch 78/100\n",
            "240/240 [==============================] - 0s 1ms/step - loss: 27.0877\n",
            "Epoch 79/100\n",
            "240/240 [==============================] - 0s 2ms/step - loss: 26.7349\n",
            "Epoch 80/100\n",
            "240/240 [==============================] - 0s 2ms/step - loss: 26.2053\n",
            "Epoch 81/100\n",
            "240/240 [==============================] - 0s 1ms/step - loss: 26.6287\n",
            "Epoch 82/100\n",
            "240/240 [==============================] - 0s 2ms/step - loss: 26.7914\n",
            "Epoch 83/100\n",
            "240/240 [==============================] - 0s 2ms/step - loss: 26.5289\n",
            "Epoch 84/100\n",
            "240/240 [==============================] - 0s 2ms/step - loss: 26.8855\n",
            "Epoch 85/100\n",
            "240/240 [==============================] - 0s 1ms/step - loss: 27.1310\n",
            "Epoch 86/100\n",
            "240/240 [==============================] - 0s 1ms/step - loss: 26.4992\n",
            "Epoch 87/100\n",
            "240/240 [==============================] - 0s 2ms/step - loss: 26.1657\n",
            "Epoch 88/100\n",
            "240/240 [==============================] - 0s 1ms/step - loss: 26.5223\n",
            "Epoch 89/100\n",
            "240/240 [==============================] - 0s 2ms/step - loss: 26.5148\n",
            "Epoch 90/100\n",
            "240/240 [==============================] - 0s 2ms/step - loss: 27.2343\n",
            "Epoch 91/100\n",
            "240/240 [==============================] - 0s 2ms/step - loss: 26.8380\n",
            "Epoch 92/100\n",
            "240/240 [==============================] - 0s 1ms/step - loss: 26.6340\n",
            "Epoch 93/100\n",
            "240/240 [==============================] - 0s 2ms/step - loss: 26.4103\n",
            "Epoch 94/100\n",
            "240/240 [==============================] - 0s 1ms/step - loss: 26.6466\n",
            "Epoch 95/100\n",
            "240/240 [==============================] - 0s 2ms/step - loss: 26.4262\n",
            "Epoch 96/100\n",
            "240/240 [==============================] - 0s 2ms/step - loss: 26.9965\n",
            "Epoch 97/100\n",
            "240/240 [==============================] - 1s 2ms/step - loss: 26.3634\n",
            "Epoch 98/100\n",
            "240/240 [==============================] - 1s 2ms/step - loss: 26.4617\n",
            "Epoch 99/100\n",
            "240/240 [==============================] - 1s 2ms/step - loss: 26.8010\n",
            "Epoch 100/100\n",
            "240/240 [==============================] - 1s 2ms/step - loss: 26.2558\n"
          ]
        },
        {
          "output_type": "execute_result",
          "data": {
            "text/plain": [
              "<keras.callbacks.History at 0x7f24a9d125f0>"
            ]
          },
          "metadata": {},
          "execution_count": 12
        }
      ]
    },
    {
      "cell_type": "markdown",
      "metadata": {
        "id": "0H0zKKNEBLD5"
      },
      "source": [
        "### Predicting the results of the Test set"
      ]
    },
    {
      "cell_type": "code",
      "source": [
        "y_pred = ann.predict(X_test)"
      ],
      "metadata": {
        "colab": {
          "base_uri": "https://localhost:8080/"
        },
        "id": "LGCMayi6oLvR",
        "outputId": "c6877819-fc3b-4387-8360-b3c44ef30225"
      },
      "execution_count": 13,
      "outputs": [
        {
          "output_type": "stream",
          "name": "stdout",
          "text": [
            "60/60 [==============================] - 0s 2ms/step\n"
          ]
        }
      ]
    },
    {
      "cell_type": "code",
      "source": [
        "np.set_printoptions(precision = 2)\n",
        "print(np.concatenate((y_pred.reshape(len(y_pred), 1), y_test.reshape(len(y_test), 1)), 1))"
      ],
      "metadata": {
        "colab": {
          "base_uri": "https://localhost:8080/"
        },
        "id": "H_vg_v-Xtn4P",
        "outputId": "bf878a06-c16f-439b-9167-8eb85e0a037f"
      },
      "execution_count": 14,
      "outputs": [
        {
          "output_type": "stream",
          "name": "stdout",
          "text": [
            "[[430.07 431.23]\n",
            " [461.08 460.01]\n",
            " [464.58 461.14]\n",
            " ...\n",
            " [471.84 473.26]\n",
            " [438.62 438.  ]\n",
            " [457.86 463.28]]\n"
          ]
        }
      ]
    }
  ]
}